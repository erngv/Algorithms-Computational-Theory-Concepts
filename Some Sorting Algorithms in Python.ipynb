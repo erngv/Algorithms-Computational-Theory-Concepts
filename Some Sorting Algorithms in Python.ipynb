{
 "cells": [
  {
   "cell_type": "markdown",
   "metadata": {},
   "source": [
    "# Sorting Algorithms"
   ]
  },
  {
   "cell_type": "markdown",
   "metadata": {},
   "source": [
    "## Bubble Sort\n",
    "\n",
    "* Comparison and swap algorithm\n",
    "* $O(N^2)$ worst case time complexity for lists of N elements\n",
    "* In-place because the sort happens without needing another array of size N as temporary space\n",
    "* Stable because it preserves original order for items with the same value\n",
    "\n",
    "\n",
    "**Steps:**\n",
    "\n",
    "* Traverse through all elements of main array\n",
    "* Compare adjacent elements and swap them if elements are out of order"
   ]
  },
  {
   "cell_type": "code",
   "execution_count": 38,
   "metadata": {},
   "outputs": [],
   "source": [
    "def bubbleSort(arr):\n",
    "    for i in range(len(arr)):\n",
    "        for j in range(len(arr)-i-1):\n",
    "            if arr[j] > arr[j+1]:\n",
    "                arr[j], arr[j+1] = arr[j+1], arr[j]"
   ]
  },
  {
   "cell_type": "code",
   "execution_count": 39,
   "metadata": {},
   "outputs": [
    {
     "name": "stdout",
     "output_type": "stream",
     "text": [
      "Before Insertion Sort\n",
      "[90, 20, 80, 70, 50, 60, 10, 40, 30]\n",
      "\n",
      "After Insertion Sort\n",
      "[10, 20, 30, 40, 50, 60, 70, 80, 90]\n"
     ]
    }
   ],
   "source": [
    "# Bubble Sort Testing\n",
    "arr = [90, 20, 80, 70, 50, 60, 10, 40, 30]\n",
    "print(\"Before Insertion Sort\")\n",
    "print(arr)\n",
    "print(\"\")\n",
    "bubbleSort(arr)\n",
    "print(\"After Insertion Sort\")\n",
    "print(arr)"
   ]
  },
  {
   "cell_type": "markdown",
   "metadata": {},
   "source": [
    "## Insertion Sort\n",
    "\n",
    "* Comparison and swap algorithm\n",
    "* $O(N^2)$ worst case time complexity\n",
    "* In-place because the sort happens without needing another array of size N as temporary space\n",
    "* Stable because it preserves original order for items with the same value\n",
    "\n",
    "**Steps:**\n",
    "\n",
    "* Traverse through all elements of main array and compare current element with its adjacent element\n",
    "* If out of order, pull out adjacent element and shift element up until the slot the adjacent element belongs to is found"
   ]
  },
  {
   "cell_type": "code",
   "execution_count": 2,
   "metadata": {},
   "outputs": [],
   "source": [
    "def insertionSort(arr):\n",
    "    for i in range(len(arr)-1):\n",
    "        while arr[i] > arr[i+1] and not i < 0:\n",
    "            arr[i], arr[i+1] = arr[i+1], arr[i]\n",
    "            i -= 1"
   ]
  },
  {
   "cell_type": "code",
   "execution_count": 3,
   "metadata": {},
   "outputs": [
    {
     "name": "stdout",
     "output_type": "stream",
     "text": [
      "Before Insertion Sort\n",
      "[90, 20, 80, 70, 50, 60, 10, 40, 30]\n",
      "\n",
      "After Insertion Sort\n",
      "[10, 20, 30, 40, 50, 60, 70, 80, 90]\n"
     ]
    }
   ],
   "source": [
    "# Insertion Sort Testing\n",
    "arr = [90, 20, 80, 70, 50, 60, 10, 40, 30]\n",
    "print(\"Before Insertion Sort\")\n",
    "print(arr)\n",
    "print(\"\")\n",
    "insertionSort(arr)\n",
    "print(\"After Insertion Sort\")\n",
    "print(arr)"
   ]
  },
  {
   "cell_type": "markdown",
   "metadata": {},
   "source": [
    "## Selection Sort\n",
    "\n",
    "* Comparison and swap algorithm\n",
    "* $O(N^2)$ worst case time complexity\n",
    "* In-place because the sort happens without needing another array of size N as temporary space\n",
    "* Not inherently stable due to long range swaps\n",
    "\n",
    "**Steps:**\n",
    "\n",
    "* Traverse through all elements of main array\n",
    "* For each iteration k, find smallest item in array and swap it with slot k"
   ]
  },
  {
   "cell_type": "code",
   "execution_count": 4,
   "metadata": {},
   "outputs": [],
   "source": [
    "def selectionSort(arr):\n",
    "    for iter in range(len(arr)):\n",
    "        smallest = iter\n",
    "        for k in range(iter+1, len(arr)):\n",
    "            if arr[k] < arr[smallest]:\n",
    "                smallest = k\n",
    "\n",
    "        arr[iter], arr[smallest] = arr[smallest], arr[iter] "
   ]
  },
  {
   "cell_type": "code",
   "execution_count": 5,
   "metadata": {},
   "outputs": [
    {
     "name": "stdout",
     "output_type": "stream",
     "text": [
      "Before Selection Sort\n",
      "[190, 120, 180, 170, 150, 160, 110, 140, 130]\n",
      "\n",
      "After Selection Sort\n",
      "[110, 120, 130, 140, 150, 160, 170, 180, 190]\n"
     ]
    }
   ],
   "source": [
    "# Selection Sort Testing\n",
    "arr = [190, 120, 180, 170, 150, 160, 110, 140, 130]\n",
    "print(\"Before Selection Sort\")\n",
    "print(arr)\n",
    "print(\"\")\n",
    "selectionSort(arr)\n",
    "print(\"After Selection Sort\")\n",
    "print(arr)"
   ]
  },
  {
   "cell_type": "markdown",
   "metadata": {},
   "source": [
    "## Quick Sort\n",
    "\n",
    "* Comparison and swap algorithm\n",
    "* $O(N^2)$ worst case time complexity\n",
    "* $O(N \\log N)$ average case time complexity\n",
    "* In-place because the sort happens without needing another array of size N as temporary space\n",
    "* Not stable due to long range swaps\n",
    "\n",
    "**Steps:**\n",
    "\n",
    "* Select a pivot item in the array and start a pointer at the beginning and at the end of the array\n",
    "* While the values at the pointers are less than the pivot value, move the pointers in the opposite direction\n",
    "* If the left pointer is less than or equal to the right pointer, swap the values at these locations\n",
    "* Shift the left pointer to the right by one and the right pointer to the left by one, and if they differ repeat these steps again\n",
    "\n",
    "The **partition** function below takes the last element as pivot and places it in its corresponding position in the sorted array. Then, elements smaller than the pivot will be placed to the left of the pivot, and elements higher than the pivot will be placed to the right of the pivot."
   ]
  },
  {
   "cell_type": "code",
   "execution_count": 6,
   "metadata": {},
   "outputs": [],
   "source": [
    "def partition(arr, l, h):\n",
    "    pivot = arr[h]\n",
    "    idx = (l-1)\n",
    "\n",
    "    for k in range(l, h):\n",
    "        if arr[k] < pivot:\n",
    "            idx += 1\n",
    "            arr[idx], arr[k] = arr[k], arr[idx]\n",
    "\n",
    "    arr[idx+1], arr[h] = arr[h], arr[idx+1]\n",
    "    return idx+1"
   ]
  },
  {
   "cell_type": "code",
   "execution_count": 7,
   "metadata": {},
   "outputs": [],
   "source": [
    "def quickSort(arr, l, h):\n",
    "    if l < h:\n",
    "        partIdx = partition(arr, l, h)\n",
    "\n",
    "        quickSort(arr, l, partIdx-1)\n",
    "        quickSort(arr, partIdx+1, h)"
   ]
  },
  {
   "cell_type": "code",
   "execution_count": 8,
   "metadata": {},
   "outputs": [
    {
     "name": "stdout",
     "output_type": "stream",
     "text": [
      "Before Selection Sort\n",
      "[190, 120, 180, 170, 150, 160, 110, 140, 130]\n",
      "\n",
      "After Selection Sort\n",
      "[110, 120, 130, 140, 150, 160, 170, 180, 190]\n"
     ]
    }
   ],
   "source": [
    "# Quick Sort Testing\n",
    "arr = [190, 120, 180, 170, 150, 160, 110, 140, 130]\n",
    "print(\"Before Selection Sort\")\n",
    "print(arr)\n",
    "print(\"\")\n",
    "quickSort(arr, 0, len(arr)-1)\n",
    "print(\"After Selection Sort\")\n",
    "print(arr)"
   ]
  },
  {
   "attachments": {},
   "cell_type": "markdown",
   "metadata": {},
   "source": [
    "## Heap Sort\n",
    "\n",
    "* Comparison based sorting algorithm based on binary heap data structure\n",
    "* $O(N \\log N)$ worst case time complexity for list of N items\n",
    "* $O(N \\log N)$ average case time complexity\n",
    "* Can be made in-place by loading all elements into an array\n",
    "* Not stable due to operations on the heap that may change the relative order of elements\n",
    "\n",
    "**Steps:**\n",
    "\n",
    "* The function buildHeap loads all elements into an array\n",
    "* The delMin operation removes an element from heap array, making one array slot open (at the end)\n",
    "* Store removed element at array end\n",
    "* Repeat above steps until heap is empty\n",
    "* Final array will contain all the elements in reverse order"
   ]
  },
  {
   "cell_type": "code",
   "execution_count": 13,
   "metadata": {},
   "outputs": [],
   "source": [
    "def buildHeap(arr, length, iter):\n",
    "    right = 2 * iter + 2\n",
    "    left = 2 * iter + 1\n",
    "    largest = iter\n",
    "\n",
    "    if length > left and arr[left] > arr[iter]:\n",
    "        largest = left\n",
    "\n",
    "    if length > right and arr[right] > arr[largest]:\n",
    "        largest = right\n",
    "\n",
    "    if iter != largest:\n",
    "        arr[iter], arr[largest] = arr[largest], arr[iter]\n",
    "        buildHeap(arr, length, largest)"
   ]
  },
  {
   "cell_type": "code",
   "execution_count": 14,
   "metadata": {},
   "outputs": [],
   "source": [
    "def heapSort(arr):\n",
    "    length = len(arr)\n",
    "\n",
    "    for iter in range(length, -1, -1):\n",
    "        buildHeap(arr, length, iter)\n",
    "\n",
    "    for iter in range(length-1, 0, -1):\n",
    "        arr[iter], arr[0] = arr[0], arr[iter]\n",
    "        buildHeap(arr, iter, 0)"
   ]
  },
  {
   "cell_type": "code",
   "execution_count": 15,
   "metadata": {},
   "outputs": [
    {
     "name": "stdout",
     "output_type": "stream",
     "text": [
      "Before Heap Sort\n",
      "[19, 12, 18, 17, 15, 16, 11, 14, 13]\n",
      "\n",
      "After Heap Sort\n",
      "[11, 12, 13, 14, 15, 16, 17, 18, 19]\n"
     ]
    }
   ],
   "source": [
    "# Heap Sort Testing\n",
    "arr = [19, 12, 18, 17, 15, 16, 11, 14, 13]\n",
    "print(\"Before Heap Sort\")\n",
    "print(arr)\n",
    "print(\"\")\n",
    "heapSort(arr)\n",
    "print(\"After Heap Sort\")\n",
    "print(arr)"
   ]
  }
 ],
 "metadata": {
  "kernelspec": {
   "display_name": "Python 3",
   "language": "python",
   "name": "python3"
  },
  "language_info": {
   "codemirror_mode": {
    "name": "ipython",
    "version": 3
   },
   "file_extension": ".py",
   "mimetype": "text/x-python",
   "name": "python",
   "nbconvert_exporter": "python",
   "pygments_lexer": "ipython3",
   "version": "3.7.4"
  }
 },
 "nbformat": 4,
 "nbformat_minor": 2
}
